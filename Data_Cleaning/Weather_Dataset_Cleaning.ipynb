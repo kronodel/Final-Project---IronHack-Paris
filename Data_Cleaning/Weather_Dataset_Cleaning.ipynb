{
 "cells": [
  {
   "attachments": {},
   "cell_type": "markdown",
   "metadata": {},
   "source": [
    "# Data Cleaning - Weather Dataset\n",
    "## Weather in France"
   ]
  },
  {
   "attachments": {},
   "cell_type": "markdown",
   "metadata": {},
   "source": [
    "This dataset contains daily historical data of the maximum power (in GW) required to cover the peaks of French gross consumption, along with the values of reference and average temperatures. The dataset has been produced by RTE and METEO-FRANCE (WEATHER-FRANCE institution) and is updated on a monthly basis. It covers a temporal range from 2012 to present, with a temporal resolution of daily. The dataset is related to the topic of electricity consumption and meteorology and is at a national level, covering the territory of France. The dataset is relevant for analyzing the trends and patterns of peak power consumption and identifying the factors that drive the demand for electricity in France. \n",
    "\n",
    "In our project, we will try to see if there is a correlation between the energy consumption and the weather."
   ]
  },
  {
   "attachments": {},
   "cell_type": "markdown",
   "metadata": {},
   "source": [
    "## Libraries"
   ]
  },
  {
   "cell_type": "code",
   "execution_count": 176,
   "metadata": {},
   "outputs": [],
   "source": [
    "# importing libraries for data cleaning and analysis :\n",
    "import pandas as pd\n",
    "import numpy as np\n",
    "import matplotlib.pyplot as plt\n",
    "import seaborn as sns\n",
    "%matplotlib inline"
   ]
  },
  {
   "attachments": {},
   "cell_type": "markdown",
   "metadata": {},
   "source": [
    "## Exploring the data"
   ]
  },
  {
   "cell_type": "code",
   "execution_count": 194,
   "metadata": {},
   "outputs": [
    {
     "data": {
      "text/html": [
       "<div>\n",
       "<style scoped>\n",
       "    .dataframe tbody tr th:only-of-type {\n",
       "        vertical-align: middle;\n",
       "    }\n",
       "\n",
       "    .dataframe tbody tr th {\n",
       "        vertical-align: top;\n",
       "    }\n",
       "\n",
       "    .dataframe thead th {\n",
       "        text-align: right;\n",
       "    }\n",
       "</style>\n",
       "<table border=\"1\" class=\"dataframe\">\n",
       "  <thead>\n",
       "    <tr style=\"text-align: right;\">\n",
       "      <th></th>\n",
       "      <th>Date</th>\n",
       "      <th>Pic journalier consommation (MW)</th>\n",
       "      <th>Température moyenne (°C)</th>\n",
       "      <th>Température référence (°C)</th>\n",
       "    </tr>\n",
       "  </thead>\n",
       "  <tbody>\n",
       "    <tr>\n",
       "      <th>0</th>\n",
       "      <td>2012-01-03</td>\n",
       "      <td>76698.0</td>\n",
       "      <td>8.4</td>\n",
       "      <td>4.6</td>\n",
       "    </tr>\n",
       "    <tr>\n",
       "      <th>1</th>\n",
       "      <td>2012-01-08</td>\n",
       "      <td>66520.0</td>\n",
       "      <td>7.9</td>\n",
       "      <td>4.7</td>\n",
       "    </tr>\n",
       "    <tr>\n",
       "      <th>2</th>\n",
       "      <td>2012-01-12</td>\n",
       "      <td>80367.0</td>\n",
       "      <td>5.1</td>\n",
       "      <td>4.7</td>\n",
       "    </tr>\n",
       "    <tr>\n",
       "      <th>3</th>\n",
       "      <td>2012-01-15</td>\n",
       "      <td>75776.0</td>\n",
       "      <td>1.1</td>\n",
       "      <td>4.8</td>\n",
       "    </tr>\n",
       "    <tr>\n",
       "      <th>4</th>\n",
       "      <td>2012-01-17</td>\n",
       "      <td>86516.0</td>\n",
       "      <td>1.0</td>\n",
       "      <td>4.9</td>\n",
       "    </tr>\n",
       "  </tbody>\n",
       "</table>\n",
       "</div>"
      ],
      "text/plain": [
       "         Date  Pic journalier consommation (MW)  Température moyenne (°C)  \\\n",
       "0  2012-01-03                           76698.0                       8.4   \n",
       "1  2012-01-08                           66520.0                       7.9   \n",
       "2  2012-01-12                           80367.0                       5.1   \n",
       "3  2012-01-15                           75776.0                       1.1   \n",
       "4  2012-01-17                           86516.0                       1.0   \n",
       "\n",
       "   Température référence (°C)  \n",
       "0                         4.6  \n",
       "1                         4.7  \n",
       "2                         4.7  \n",
       "3                         4.8  \n",
       "4                         4.9  "
      ]
     },
     "execution_count": 194,
     "metadata": {},
     "output_type": "execute_result"
    }
   ],
   "source": [
    "# importing the dataset :\n",
    "\n",
    "df = pd.read_csv('pic-journalier-consommation-brute.csv', sep=';')\n",
    "df.head()"
   ]
  },
  {
   "cell_type": "code",
   "execution_count": 195,
   "metadata": {},
   "outputs": [
    {
     "data": {
      "text/plain": [
       "(3987, 4)"
      ]
     },
     "execution_count": 195,
     "metadata": {},
     "output_type": "execute_result"
    }
   ],
   "source": [
    "# checking the shape of the dataset :\n",
    "df.shape"
   ]
  },
  {
   "cell_type": "code",
   "execution_count": 196,
   "metadata": {},
   "outputs": [
    {
     "data": {
      "text/plain": [
       "Index(['Date', 'Pic journalier consommation (MW)', 'Température moyenne (°C)',\n",
       "       'Température référence (°C)'],\n",
       "      dtype='object')"
      ]
     },
     "execution_count": 196,
     "metadata": {},
     "output_type": "execute_result"
    }
   ],
   "source": [
    "# checking the columns of the dataset :\n",
    "df.columns"
   ]
  },
  {
   "cell_type": "code",
   "execution_count": 197,
   "metadata": {},
   "outputs": [
    {
     "name": "stdout",
     "output_type": "stream",
     "text": [
      "<class 'pandas.core.frame.DataFrame'>\n",
      "RangeIndex: 3987 entries, 0 to 3986\n",
      "Data columns (total 4 columns):\n",
      " #   Column                            Non-Null Count  Dtype  \n",
      "---  ------                            --------------  -----  \n",
      " 0   Date                              3987 non-null   object \n",
      " 1   Pic journalier consommation (MW)  3987 non-null   float64\n",
      " 2   Température moyenne (°C)          3987 non-null   float64\n",
      " 3   Température référence (°C)        3987 non-null   float64\n",
      "dtypes: float64(3), object(1)\n",
      "memory usage: 124.7+ KB\n"
     ]
    }
   ],
   "source": [
    "df.info()"
   ]
  },
  {
   "attachments": {},
   "cell_type": "markdown",
   "metadata": {},
   "source": [
    "## Let's begin by Fixing the datetime because it's the most important feature"
   ]
  },
  {
   "attachments": {},
   "cell_type": "markdown",
   "metadata": {},
   "source": [
    "'date' column's type needs to be converted to datetime format. Also we need to fix it as index."
   ]
  },
  {
   "cell_type": "code",
   "execution_count": 198,
   "metadata": {},
   "outputs": [],
   "source": [
    "# Convert the \"date\" column to a datetime format\n",
    "df['Date'] = pd.to_datetime(df['Date'])\n",
    "\n",
    "# Set the \"date\" column as the index of the DataFrame\n",
    "#df.set_index('Date', inplace=True) not needed for now, let's keep it as a column"
   ]
  },
  {
   "cell_type": "code",
   "execution_count": 199,
   "metadata": {},
   "outputs": [
    {
     "name": "stdout",
     "output_type": "stream",
     "text": [
      "        Date  Pic journalier consommation (MW)  Température moyenne (°C)  \\\n",
      "0 2012-01-03                           76698.0                       8.4   \n",
      "1 2012-01-08                           66520.0                       7.9   \n",
      "2 2012-01-12                           80367.0                       5.1   \n",
      "3 2012-01-15                           75776.0                       1.1   \n",
      "4 2012-01-17                           86516.0                       1.0   \n",
      "\n",
      "   Température référence (°C)  \n",
      "0                         4.6  \n",
      "1                         4.7  \n",
      "2                         4.7  \n",
      "3                         4.8  \n",
      "4                         4.9  \n"
     ]
    }
   ],
   "source": [
    "# Check the first few rows of the DataFrame\n",
    "print(df.head())"
   ]
  },
  {
   "cell_type": "code",
   "execution_count": 200,
   "metadata": {},
   "outputs": [
    {
     "name": "stdout",
     "output_type": "stream",
     "text": [
      "<class 'pandas.core.frame.DataFrame'>\n",
      "RangeIndex: 3987 entries, 0 to 3986\n",
      "Data columns (total 4 columns):\n",
      " #   Column                            Non-Null Count  Dtype         \n",
      "---  ------                            --------------  -----         \n",
      " 0   Date                              3987 non-null   datetime64[ns]\n",
      " 1   Pic journalier consommation (MW)  3987 non-null   float64       \n",
      " 2   Température moyenne (°C)          3987 non-null   float64       \n",
      " 3   Température référence (°C)        3987 non-null   float64       \n",
      "dtypes: datetime64[ns](1), float64(3)\n",
      "memory usage: 124.7 KB\n"
     ]
    }
   ],
   "source": [
    "df.info()"
   ]
  },
  {
   "cell_type": "code",
   "execution_count": 201,
   "metadata": {},
   "outputs": [],
   "source": [
    "# Creating \"Year\", \"Month\", \"Day\", \"Weekday\" columns : \n",
    "df['Year'] = df['Date'].dt.year\n",
    "df['Month'] = df['Date'].dt.month\n",
    "df['Day'] = df['Date'].dt.day\n",
    "df['Weekday'] = df['Date'].dt.weekday"
   ]
  },
  {
   "cell_type": "code",
   "execution_count": 202,
   "metadata": {},
   "outputs": [
    {
     "data": {
      "text/html": [
       "<div>\n",
       "<style scoped>\n",
       "    .dataframe tbody tr th:only-of-type {\n",
       "        vertical-align: middle;\n",
       "    }\n",
       "\n",
       "    .dataframe tbody tr th {\n",
       "        vertical-align: top;\n",
       "    }\n",
       "\n",
       "    .dataframe thead th {\n",
       "        text-align: right;\n",
       "    }\n",
       "</style>\n",
       "<table border=\"1\" class=\"dataframe\">\n",
       "  <thead>\n",
       "    <tr style=\"text-align: right;\">\n",
       "      <th></th>\n",
       "      <th>Date</th>\n",
       "      <th>Pic journalier consommation (MW)</th>\n",
       "      <th>Température moyenne (°C)</th>\n",
       "      <th>Température référence (°C)</th>\n",
       "      <th>Year</th>\n",
       "      <th>Month</th>\n",
       "      <th>Day</th>\n",
       "      <th>Weekday</th>\n",
       "    </tr>\n",
       "  </thead>\n",
       "  <tbody>\n",
       "    <tr>\n",
       "      <th>0</th>\n",
       "      <td>2012-01-03</td>\n",
       "      <td>76698.0</td>\n",
       "      <td>8.4</td>\n",
       "      <td>4.6</td>\n",
       "      <td>2012</td>\n",
       "      <td>1</td>\n",
       "      <td>3</td>\n",
       "      <td>1</td>\n",
       "    </tr>\n",
       "    <tr>\n",
       "      <th>1</th>\n",
       "      <td>2012-01-08</td>\n",
       "      <td>66520.0</td>\n",
       "      <td>7.9</td>\n",
       "      <td>4.7</td>\n",
       "      <td>2012</td>\n",
       "      <td>1</td>\n",
       "      <td>8</td>\n",
       "      <td>6</td>\n",
       "    </tr>\n",
       "    <tr>\n",
       "      <th>2</th>\n",
       "      <td>2012-01-12</td>\n",
       "      <td>80367.0</td>\n",
       "      <td>5.1</td>\n",
       "      <td>4.7</td>\n",
       "      <td>2012</td>\n",
       "      <td>1</td>\n",
       "      <td>12</td>\n",
       "      <td>3</td>\n",
       "    </tr>\n",
       "    <tr>\n",
       "      <th>3</th>\n",
       "      <td>2012-01-15</td>\n",
       "      <td>75776.0</td>\n",
       "      <td>1.1</td>\n",
       "      <td>4.8</td>\n",
       "      <td>2012</td>\n",
       "      <td>1</td>\n",
       "      <td>15</td>\n",
       "      <td>6</td>\n",
       "    </tr>\n",
       "    <tr>\n",
       "      <th>4</th>\n",
       "      <td>2012-01-17</td>\n",
       "      <td>86516.0</td>\n",
       "      <td>1.0</td>\n",
       "      <td>4.9</td>\n",
       "      <td>2012</td>\n",
       "      <td>1</td>\n",
       "      <td>17</td>\n",
       "      <td>1</td>\n",
       "    </tr>\n",
       "  </tbody>\n",
       "</table>\n",
       "</div>"
      ],
      "text/plain": [
       "        Date  Pic journalier consommation (MW)  Température moyenne (°C)  \\\n",
       "0 2012-01-03                           76698.0                       8.4   \n",
       "1 2012-01-08                           66520.0                       7.9   \n",
       "2 2012-01-12                           80367.0                       5.1   \n",
       "3 2012-01-15                           75776.0                       1.1   \n",
       "4 2012-01-17                           86516.0                       1.0   \n",
       "\n",
       "   Température référence (°C)  Year  Month  Day  Weekday  \n",
       "0                         4.6  2012      1    3        1  \n",
       "1                         4.7  2012      1    8        6  \n",
       "2                         4.7  2012      1   12        3  \n",
       "3                         4.8  2012      1   15        6  \n",
       "4                         4.9  2012      1   17        1  "
      ]
     },
     "execution_count": 202,
     "metadata": {},
     "output_type": "execute_result"
    }
   ],
   "source": [
    "# Check the first few rows of the DataFrame\n",
    "df.head()"
   ]
  },
  {
   "cell_type": "code",
   "execution_count": 203,
   "metadata": {},
   "outputs": [],
   "source": [
    "# Putting the \"Year\", \"Month\", \"Day\" columns at the beginning of the DataFrame just next to the \"Date\" column :\n",
    "df = df[['Date', 'Year', 'Month', 'Day', 'Weekday', 'Pic journalier consommation (MW)', 'Température moyenne (°C)', 'Température référence (°C)']]"
   ]
  },
  {
   "cell_type": "code",
   "execution_count": 204,
   "metadata": {},
   "outputs": [
    {
     "data": {
      "text/html": [
       "<div>\n",
       "<style scoped>\n",
       "    .dataframe tbody tr th:only-of-type {\n",
       "        vertical-align: middle;\n",
       "    }\n",
       "\n",
       "    .dataframe tbody tr th {\n",
       "        vertical-align: top;\n",
       "    }\n",
       "\n",
       "    .dataframe thead th {\n",
       "        text-align: right;\n",
       "    }\n",
       "</style>\n",
       "<table border=\"1\" class=\"dataframe\">\n",
       "  <thead>\n",
       "    <tr style=\"text-align: right;\">\n",
       "      <th></th>\n",
       "      <th>Date</th>\n",
       "      <th>Year</th>\n",
       "      <th>Month</th>\n",
       "      <th>Day</th>\n",
       "      <th>Weekday</th>\n",
       "      <th>Pic journalier consommation (MW)</th>\n",
       "      <th>Température moyenne (°C)</th>\n",
       "      <th>Température référence (°C)</th>\n",
       "    </tr>\n",
       "  </thead>\n",
       "  <tbody>\n",
       "    <tr>\n",
       "      <th>0</th>\n",
       "      <td>2012-01-03</td>\n",
       "      <td>2012</td>\n",
       "      <td>1</td>\n",
       "      <td>3</td>\n",
       "      <td>1</td>\n",
       "      <td>76698.0</td>\n",
       "      <td>8.4</td>\n",
       "      <td>4.6</td>\n",
       "    </tr>\n",
       "    <tr>\n",
       "      <th>1</th>\n",
       "      <td>2012-01-08</td>\n",
       "      <td>2012</td>\n",
       "      <td>1</td>\n",
       "      <td>8</td>\n",
       "      <td>6</td>\n",
       "      <td>66520.0</td>\n",
       "      <td>7.9</td>\n",
       "      <td>4.7</td>\n",
       "    </tr>\n",
       "    <tr>\n",
       "      <th>2</th>\n",
       "      <td>2012-01-12</td>\n",
       "      <td>2012</td>\n",
       "      <td>1</td>\n",
       "      <td>12</td>\n",
       "      <td>3</td>\n",
       "      <td>80367.0</td>\n",
       "      <td>5.1</td>\n",
       "      <td>4.7</td>\n",
       "    </tr>\n",
       "    <tr>\n",
       "      <th>3</th>\n",
       "      <td>2012-01-15</td>\n",
       "      <td>2012</td>\n",
       "      <td>1</td>\n",
       "      <td>15</td>\n",
       "      <td>6</td>\n",
       "      <td>75776.0</td>\n",
       "      <td>1.1</td>\n",
       "      <td>4.8</td>\n",
       "    </tr>\n",
       "    <tr>\n",
       "      <th>4</th>\n",
       "      <td>2012-01-17</td>\n",
       "      <td>2012</td>\n",
       "      <td>1</td>\n",
       "      <td>17</td>\n",
       "      <td>1</td>\n",
       "      <td>86516.0</td>\n",
       "      <td>1.0</td>\n",
       "      <td>4.9</td>\n",
       "    </tr>\n",
       "  </tbody>\n",
       "</table>\n",
       "</div>"
      ],
      "text/plain": [
       "        Date  Year  Month  Day  Weekday  Pic journalier consommation (MW)  \\\n",
       "0 2012-01-03  2012      1    3        1                           76698.0   \n",
       "1 2012-01-08  2012      1    8        6                           66520.0   \n",
       "2 2012-01-12  2012      1   12        3                           80367.0   \n",
       "3 2012-01-15  2012      1   15        6                           75776.0   \n",
       "4 2012-01-17  2012      1   17        1                           86516.0   \n",
       "\n",
       "   Température moyenne (°C)  Température référence (°C)  \n",
       "0                       8.4                         4.6  \n",
       "1                       7.9                         4.7  \n",
       "2                       5.1                         4.7  \n",
       "3                       1.1                         4.8  \n",
       "4                       1.0                         4.9  "
      ]
     },
     "execution_count": 204,
     "metadata": {},
     "output_type": "execute_result"
    }
   ],
   "source": [
    "df.head(5)"
   ]
  },
  {
   "cell_type": "code",
   "execution_count": 205,
   "metadata": {},
   "outputs": [
    {
     "name": "stdout",
     "output_type": "stream",
     "text": [
      "<class 'pandas.core.frame.DataFrame'>\n",
      "RangeIndex: 3987 entries, 0 to 3986\n",
      "Data columns (total 8 columns):\n",
      " #   Column                            Non-Null Count  Dtype         \n",
      "---  ------                            --------------  -----         \n",
      " 0   Date                              3987 non-null   datetime64[ns]\n",
      " 1   Year                              3987 non-null   int64         \n",
      " 2   Month                             3987 non-null   int64         \n",
      " 3   Day                               3987 non-null   int64         \n",
      " 4   Weekday                           3987 non-null   int64         \n",
      " 5   Pic journalier consommation (MW)  3987 non-null   float64       \n",
      " 6   Température moyenne (°C)          3987 non-null   float64       \n",
      " 7   Température référence (°C)        3987 non-null   float64       \n",
      "dtypes: datetime64[ns](1), float64(3), int64(4)\n",
      "memory usage: 249.3 KB\n"
     ]
    }
   ],
   "source": [
    "df.info()"
   ]
  },
  {
   "attachments": {},
   "cell_type": "markdown",
   "metadata": {},
   "source": [
    "1) We need explore the data and drop some useless colunms to make the analysis easier.\n",
    "2) Translating the columns name to english\n",
    "3) We need to create a calculated field \"Temperature Deviation (°C)\" feature to help us with the analysis. \n"
   ]
  },
  {
   "attachments": {},
   "cell_type": "markdown",
   "metadata": {},
   "source": [
    "## Dropping Columns"
   ]
  },
  {
   "cell_type": "code",
   "execution_count": 209,
   "metadata": {},
   "outputs": [],
   "source": [
    "# Dropping \"Pic journalier consommation (MW)\" column beacause we don't need it :\n",
    "\n",
    "df.drop('Pic journalier consommation (MW)', axis=1, inplace=True)"
   ]
  },
  {
   "cell_type": "code",
   "execution_count": 208,
   "metadata": {},
   "outputs": [
    {
     "name": "stdout",
     "output_type": "stream",
     "text": [
      "<class 'pandas.core.frame.DataFrame'>\n",
      "RangeIndex: 3987 entries, 0 to 3986\n",
      "Data columns (total 7 columns):\n",
      " #   Column                      Non-Null Count  Dtype         \n",
      "---  ------                      --------------  -----         \n",
      " 0   Date                        3987 non-null   datetime64[ns]\n",
      " 1   Year                        3987 non-null   int64         \n",
      " 2   Month                       3987 non-null   int64         \n",
      " 3   Day                         3987 non-null   int64         \n",
      " 4   Weekday                     3987 non-null   int64         \n",
      " 5   Température moyenne (°C)    3987 non-null   float64       \n",
      " 6   Température référence (°C)  3987 non-null   float64       \n",
      "dtypes: datetime64[ns](1), float64(2), int64(4)\n",
      "memory usage: 218.2 KB\n"
     ]
    }
   ],
   "source": [
    "df.info()"
   ]
  },
  {
   "cell_type": "code",
   "execution_count": 210,
   "metadata": {},
   "outputs": [
    {
     "data": {
      "text/html": [
       "<div>\n",
       "<style scoped>\n",
       "    .dataframe tbody tr th:only-of-type {\n",
       "        vertical-align: middle;\n",
       "    }\n",
       "\n",
       "    .dataframe tbody tr th {\n",
       "        vertical-align: top;\n",
       "    }\n",
       "\n",
       "    .dataframe thead th {\n",
       "        text-align: right;\n",
       "    }\n",
       "</style>\n",
       "<table border=\"1\" class=\"dataframe\">\n",
       "  <thead>\n",
       "    <tr style=\"text-align: right;\">\n",
       "      <th></th>\n",
       "      <th>Date</th>\n",
       "      <th>Year</th>\n",
       "      <th>Month</th>\n",
       "      <th>Day</th>\n",
       "      <th>Weekday</th>\n",
       "      <th>Température moyenne (°C)</th>\n",
       "      <th>Température référence (°C)</th>\n",
       "    </tr>\n",
       "  </thead>\n",
       "  <tbody>\n",
       "    <tr>\n",
       "      <th>0</th>\n",
       "      <td>2012-01-03</td>\n",
       "      <td>2012</td>\n",
       "      <td>1</td>\n",
       "      <td>3</td>\n",
       "      <td>1</td>\n",
       "      <td>8.4</td>\n",
       "      <td>4.6</td>\n",
       "    </tr>\n",
       "    <tr>\n",
       "      <th>1</th>\n",
       "      <td>2012-01-08</td>\n",
       "      <td>2012</td>\n",
       "      <td>1</td>\n",
       "      <td>8</td>\n",
       "      <td>6</td>\n",
       "      <td>7.9</td>\n",
       "      <td>4.7</td>\n",
       "    </tr>\n",
       "    <tr>\n",
       "      <th>2</th>\n",
       "      <td>2012-01-12</td>\n",
       "      <td>2012</td>\n",
       "      <td>1</td>\n",
       "      <td>12</td>\n",
       "      <td>3</td>\n",
       "      <td>5.1</td>\n",
       "      <td>4.7</td>\n",
       "    </tr>\n",
       "    <tr>\n",
       "      <th>3</th>\n",
       "      <td>2012-01-15</td>\n",
       "      <td>2012</td>\n",
       "      <td>1</td>\n",
       "      <td>15</td>\n",
       "      <td>6</td>\n",
       "      <td>1.1</td>\n",
       "      <td>4.8</td>\n",
       "    </tr>\n",
       "    <tr>\n",
       "      <th>4</th>\n",
       "      <td>2012-01-17</td>\n",
       "      <td>2012</td>\n",
       "      <td>1</td>\n",
       "      <td>17</td>\n",
       "      <td>1</td>\n",
       "      <td>1.0</td>\n",
       "      <td>4.9</td>\n",
       "    </tr>\n",
       "  </tbody>\n",
       "</table>\n",
       "</div>"
      ],
      "text/plain": [
       "        Date  Year  Month  Day  Weekday  Température moyenne (°C)  \\\n",
       "0 2012-01-03  2012      1    3        1                       8.4   \n",
       "1 2012-01-08  2012      1    8        6                       7.9   \n",
       "2 2012-01-12  2012      1   12        3                       5.1   \n",
       "3 2012-01-15  2012      1   15        6                       1.1   \n",
       "4 2012-01-17  2012      1   17        1                       1.0   \n",
       "\n",
       "   Température référence (°C)  \n",
       "0                         4.6  \n",
       "1                         4.7  \n",
       "2                         4.7  \n",
       "3                         4.8  \n",
       "4                         4.9  "
      ]
     },
     "execution_count": 210,
     "metadata": {},
     "output_type": "execute_result"
    }
   ],
   "source": [
    "df.head(5)"
   ]
  },
  {
   "attachments": {},
   "cell_type": "markdown",
   "metadata": {},
   "source": [
    "## Translation of columns names"
   ]
  },
  {
   "cell_type": "code",
   "execution_count": 211,
   "metadata": {},
   "outputs": [
    {
     "name": "stdout",
     "output_type": "stream",
     "text": [
      "Index(['Date', 'Year', 'Month', 'Day', 'Weekday', 'Average temperature (°C)',\n",
      "       'Reference temperature (°C)'],\n",
      "      dtype='object')\n"
     ]
    }
   ],
   "source": [
    "# Translating the french columns names to english :\n",
    "\n",
    "# Define a dictionary to map French column names to English column names\n",
    "translation_dict = {\n",
    "    'Température moyenne (°C)': 'Average temperature (°C)',\n",
    "    'Température référence (°C)': 'Reference temperature (°C)'\n",
    "}\n",
    "\n",
    "# Rename columns using the dictionary\n",
    "df.rename(columns=translation_dict, inplace=True)\n",
    "\n",
    "# Print the updated column names\n",
    "print(df.columns)"
   ]
  },
  {
   "cell_type": "code",
   "execution_count": 212,
   "metadata": {},
   "outputs": [
    {
     "data": {
      "text/html": [
       "<div>\n",
       "<style scoped>\n",
       "    .dataframe tbody tr th:only-of-type {\n",
       "        vertical-align: middle;\n",
       "    }\n",
       "\n",
       "    .dataframe tbody tr th {\n",
       "        vertical-align: top;\n",
       "    }\n",
       "\n",
       "    .dataframe thead th {\n",
       "        text-align: right;\n",
       "    }\n",
       "</style>\n",
       "<table border=\"1\" class=\"dataframe\">\n",
       "  <thead>\n",
       "    <tr style=\"text-align: right;\">\n",
       "      <th></th>\n",
       "      <th>Date</th>\n",
       "      <th>Year</th>\n",
       "      <th>Month</th>\n",
       "      <th>Day</th>\n",
       "      <th>Weekday</th>\n",
       "      <th>Average temperature (°C)</th>\n",
       "      <th>Reference temperature (°C)</th>\n",
       "    </tr>\n",
       "  </thead>\n",
       "  <tbody>\n",
       "    <tr>\n",
       "      <th>0</th>\n",
       "      <td>2012-01-03</td>\n",
       "      <td>2012</td>\n",
       "      <td>1</td>\n",
       "      <td>3</td>\n",
       "      <td>1</td>\n",
       "      <td>8.4</td>\n",
       "      <td>4.6</td>\n",
       "    </tr>\n",
       "    <tr>\n",
       "      <th>1</th>\n",
       "      <td>2012-01-08</td>\n",
       "      <td>2012</td>\n",
       "      <td>1</td>\n",
       "      <td>8</td>\n",
       "      <td>6</td>\n",
       "      <td>7.9</td>\n",
       "      <td>4.7</td>\n",
       "    </tr>\n",
       "    <tr>\n",
       "      <th>2</th>\n",
       "      <td>2012-01-12</td>\n",
       "      <td>2012</td>\n",
       "      <td>1</td>\n",
       "      <td>12</td>\n",
       "      <td>3</td>\n",
       "      <td>5.1</td>\n",
       "      <td>4.7</td>\n",
       "    </tr>\n",
       "    <tr>\n",
       "      <th>3</th>\n",
       "      <td>2012-01-15</td>\n",
       "      <td>2012</td>\n",
       "      <td>1</td>\n",
       "      <td>15</td>\n",
       "      <td>6</td>\n",
       "      <td>1.1</td>\n",
       "      <td>4.8</td>\n",
       "    </tr>\n",
       "    <tr>\n",
       "      <th>4</th>\n",
       "      <td>2012-01-17</td>\n",
       "      <td>2012</td>\n",
       "      <td>1</td>\n",
       "      <td>17</td>\n",
       "      <td>1</td>\n",
       "      <td>1.0</td>\n",
       "      <td>4.9</td>\n",
       "    </tr>\n",
       "  </tbody>\n",
       "</table>\n",
       "</div>"
      ],
      "text/plain": [
       "        Date  Year  Month  Day  Weekday  Average temperature (°C)  \\\n",
       "0 2012-01-03  2012      1    3        1                       8.4   \n",
       "1 2012-01-08  2012      1    8        6                       7.9   \n",
       "2 2012-01-12  2012      1   12        3                       5.1   \n",
       "3 2012-01-15  2012      1   15        6                       1.1   \n",
       "4 2012-01-17  2012      1   17        1                       1.0   \n",
       "\n",
       "   Reference temperature (°C)  \n",
       "0                         4.6  \n",
       "1                         4.7  \n",
       "2                         4.7  \n",
       "3                         4.8  \n",
       "4                         4.9  "
      ]
     },
     "execution_count": 212,
     "metadata": {},
     "output_type": "execute_result"
    }
   ],
   "source": [
    "df.head(5)"
   ]
  },
  {
   "attachments": {},
   "cell_type": "markdown",
   "metadata": {},
   "source": [
    "## Missing Values"
   ]
  },
  {
   "cell_type": "code",
   "execution_count": 213,
   "metadata": {},
   "outputs": [
    {
     "data": {
      "text/plain": [
       "Date                          0\n",
       "Year                          0\n",
       "Month                         0\n",
       "Day                           0\n",
       "Weekday                       0\n",
       "Average temperature (°C)      0\n",
       "Reference temperature (°C)    0\n",
       "dtype: int64"
      ]
     },
     "execution_count": 213,
     "metadata": {},
     "output_type": "execute_result"
    }
   ],
   "source": [
    "# Checking the number of null values in each column :\n",
    "df.isnull().sum()"
   ]
  },
  {
   "attachments": {},
   "cell_type": "markdown",
   "metadata": {},
   "source": [
    "## Checking Duplicates"
   ]
  },
  {
   "cell_type": "code",
   "execution_count": 214,
   "metadata": {},
   "outputs": [
    {
     "data": {
      "text/plain": [
       "0"
      ]
     },
     "execution_count": 214,
     "metadata": {},
     "output_type": "execute_result"
    }
   ],
   "source": [
    "# Checking duplicates in the dataset :\n",
    "\n",
    "df.duplicated().sum()"
   ]
  },
  {
   "attachments": {},
   "cell_type": "markdown",
   "metadata": {},
   "source": [
    "## Let's create a new calculated field called \"Temperature Deviation (°C)\" "
   ]
  },
  {
   "cell_type": "code",
   "execution_count": 215,
   "metadata": {},
   "outputs": [],
   "source": [
    "# Creating a new column 'Temperature Deviation (°C)' which is the difference between the 'Average temperature (°C)' and the 'Reference temperature (°C)' :\n",
    "\n",
    "df['Temperature Deviation (°C)'] = df['Average temperature (°C)'] - df['Reference temperature (°C)']"
   ]
  },
  {
   "cell_type": "code",
   "execution_count": 216,
   "metadata": {},
   "outputs": [
    {
     "name": "stdout",
     "output_type": "stream",
     "text": [
      "<class 'pandas.core.frame.DataFrame'>\n",
      "RangeIndex: 3987 entries, 0 to 3986\n",
      "Data columns (total 8 columns):\n",
      " #   Column                      Non-Null Count  Dtype         \n",
      "---  ------                      --------------  -----         \n",
      " 0   Date                        3987 non-null   datetime64[ns]\n",
      " 1   Year                        3987 non-null   int64         \n",
      " 2   Month                       3987 non-null   int64         \n",
      " 3   Day                         3987 non-null   int64         \n",
      " 4   Weekday                     3987 non-null   int64         \n",
      " 5   Average temperature (°C)    3987 non-null   float64       \n",
      " 6   Reference temperature (°C)  3987 non-null   float64       \n",
      " 7   Temperature Deviation (°C)  3987 non-null   float64       \n",
      "dtypes: datetime64[ns](1), float64(3), int64(4)\n",
      "memory usage: 249.3 KB\n"
     ]
    }
   ],
   "source": [
    "df.info()"
   ]
  },
  {
   "attachments": {},
   "cell_type": "markdown",
   "metadata": {},
   "source": [
    "## Keeping only the time range that we want for our project"
   ]
  },
  {
   "cell_type": "code",
   "execution_count": 217,
   "metadata": {},
   "outputs": [
    {
     "data": {
      "text/plain": [
       "(Timestamp('2012-01-01 00:00:00'), Timestamp('2022-11-30 00:00:00'))"
      ]
     },
     "execution_count": 217,
     "metadata": {},
     "output_type": "execute_result"
    }
   ],
   "source": [
    "# Checking the time period of the dataset :\n",
    "df['Date'].min(), df['Date'].max()"
   ]
  },
  {
   "cell_type": "code",
   "execution_count": 218,
   "metadata": {},
   "outputs": [
    {
     "data": {
      "text/html": [
       "<div>\n",
       "<style scoped>\n",
       "    .dataframe tbody tr th:only-of-type {\n",
       "        vertical-align: middle;\n",
       "    }\n",
       "\n",
       "    .dataframe tbody tr th {\n",
       "        vertical-align: top;\n",
       "    }\n",
       "\n",
       "    .dataframe thead th {\n",
       "        text-align: right;\n",
       "    }\n",
       "</style>\n",
       "<table border=\"1\" class=\"dataframe\">\n",
       "  <thead>\n",
       "    <tr style=\"text-align: right;\">\n",
       "      <th></th>\n",
       "      <th>Date</th>\n",
       "      <th>Year</th>\n",
       "      <th>Month</th>\n",
       "      <th>Day</th>\n",
       "      <th>Weekday</th>\n",
       "      <th>Average temperature (°C)</th>\n",
       "      <th>Reference temperature (°C)</th>\n",
       "      <th>Temperature Deviation (°C)</th>\n",
       "    </tr>\n",
       "  </thead>\n",
       "  <tbody>\n",
       "    <tr>\n",
       "      <th>0</th>\n",
       "      <td>2012-01-03</td>\n",
       "      <td>2012</td>\n",
       "      <td>1</td>\n",
       "      <td>3</td>\n",
       "      <td>1</td>\n",
       "      <td>8.4</td>\n",
       "      <td>4.6</td>\n",
       "      <td>3.8</td>\n",
       "    </tr>\n",
       "    <tr>\n",
       "      <th>1</th>\n",
       "      <td>2012-01-08</td>\n",
       "      <td>2012</td>\n",
       "      <td>1</td>\n",
       "      <td>8</td>\n",
       "      <td>6</td>\n",
       "      <td>7.9</td>\n",
       "      <td>4.7</td>\n",
       "      <td>3.2</td>\n",
       "    </tr>\n",
       "    <tr>\n",
       "      <th>2</th>\n",
       "      <td>2012-01-12</td>\n",
       "      <td>2012</td>\n",
       "      <td>1</td>\n",
       "      <td>12</td>\n",
       "      <td>3</td>\n",
       "      <td>5.1</td>\n",
       "      <td>4.7</td>\n",
       "      <td>0.4</td>\n",
       "    </tr>\n",
       "    <tr>\n",
       "      <th>3</th>\n",
       "      <td>2012-01-15</td>\n",
       "      <td>2012</td>\n",
       "      <td>1</td>\n",
       "      <td>15</td>\n",
       "      <td>6</td>\n",
       "      <td>1.1</td>\n",
       "      <td>4.8</td>\n",
       "      <td>-3.7</td>\n",
       "    </tr>\n",
       "    <tr>\n",
       "      <th>4</th>\n",
       "      <td>2012-01-17</td>\n",
       "      <td>2012</td>\n",
       "      <td>1</td>\n",
       "      <td>17</td>\n",
       "      <td>1</td>\n",
       "      <td>1.0</td>\n",
       "      <td>4.9</td>\n",
       "      <td>-3.9</td>\n",
       "    </tr>\n",
       "  </tbody>\n",
       "</table>\n",
       "</div>"
      ],
      "text/plain": [
       "        Date  Year  Month  Day  Weekday  Average temperature (°C)  \\\n",
       "0 2012-01-03  2012      1    3        1                       8.4   \n",
       "1 2012-01-08  2012      1    8        6                       7.9   \n",
       "2 2012-01-12  2012      1   12        3                       5.1   \n",
       "3 2012-01-15  2012      1   15        6                       1.1   \n",
       "4 2012-01-17  2012      1   17        1                       1.0   \n",
       "\n",
       "   Reference temperature (°C)  Temperature Deviation (°C)  \n",
       "0                         4.6                         3.8  \n",
       "1                         4.7                         3.2  \n",
       "2                         4.7                         0.4  \n",
       "3                         4.8                        -3.7  \n",
       "4                         4.9                        -3.9  "
      ]
     },
     "execution_count": 218,
     "metadata": {},
     "output_type": "execute_result"
    }
   ],
   "source": [
    "df.head(5)"
   ]
  },
  {
   "cell_type": "code",
   "execution_count": 219,
   "metadata": {},
   "outputs": [
    {
     "name": "stdout",
     "output_type": "stream",
     "text": [
      "        Date  Year  Month  Day  Weekday  Average temperature (°C)  \\\n",
      "0 2012-01-03  2012      1    3        1                       8.4   \n",
      "1 2012-01-08  2012      1    8        6                       7.9   \n",
      "2 2012-01-12  2012      1   12        3                       5.1   \n",
      "3 2012-01-15  2012      1   15        6                       1.1   \n",
      "4 2012-01-17  2012      1   17        1                       1.0   \n",
      "\n",
      "   Reference temperature (°C)  Temperature Deviation (°C)  \n",
      "0                         4.6                         3.8  \n",
      "1                         4.7                         3.2  \n",
      "2                         4.7                         0.4  \n",
      "3                         4.8                        -3.7  \n",
      "4                         4.9                        -3.9  \n"
     ]
    }
   ],
   "source": [
    "# '2012-01-01' to '2022-05-31':\n",
    "# Select the rows that are within the time range\n",
    "df = df.loc[(df['Date'] >= '2012-01-01') & (df['Date'] <= '2022-05-31')]\n",
    "\n",
    "# Reset the index to the default integer index\n",
    "df.reset_index(drop=True, inplace=True)\n",
    "\n",
    "# Print the updated dataframe\n",
    "print(df.head())"
   ]
  },
  {
   "cell_type": "code",
   "execution_count": 220,
   "metadata": {},
   "outputs": [
    {
     "name": "stdout",
     "output_type": "stream",
     "text": [
      "<class 'pandas.core.frame.DataFrame'>\n",
      "RangeIndex: 3804 entries, 0 to 3803\n",
      "Data columns (total 8 columns):\n",
      " #   Column                      Non-Null Count  Dtype         \n",
      "---  ------                      --------------  -----         \n",
      " 0   Date                        3804 non-null   datetime64[ns]\n",
      " 1   Year                        3804 non-null   int64         \n",
      " 2   Month                       3804 non-null   int64         \n",
      " 3   Day                         3804 non-null   int64         \n",
      " 4   Weekday                     3804 non-null   int64         \n",
      " 5   Average temperature (°C)    3804 non-null   float64       \n",
      " 6   Reference temperature (°C)  3804 non-null   float64       \n",
      " 7   Temperature Deviation (°C)  3804 non-null   float64       \n",
      "dtypes: datetime64[ns](1), float64(3), int64(4)\n",
      "memory usage: 237.9 KB\n"
     ]
    }
   ],
   "source": [
    "df.info()"
   ]
  },
  {
   "cell_type": "code",
   "execution_count": 221,
   "metadata": {},
   "outputs": [
    {
     "data": {
      "text/html": [
       "<div>\n",
       "<style scoped>\n",
       "    .dataframe tbody tr th:only-of-type {\n",
       "        vertical-align: middle;\n",
       "    }\n",
       "\n",
       "    .dataframe tbody tr th {\n",
       "        vertical-align: top;\n",
       "    }\n",
       "\n",
       "    .dataframe thead th {\n",
       "        text-align: right;\n",
       "    }\n",
       "</style>\n",
       "<table border=\"1\" class=\"dataframe\">\n",
       "  <thead>\n",
       "    <tr style=\"text-align: right;\">\n",
       "      <th></th>\n",
       "      <th>Date</th>\n",
       "      <th>Year</th>\n",
       "      <th>Month</th>\n",
       "      <th>Day</th>\n",
       "      <th>Weekday</th>\n",
       "      <th>Average temperature (°C)</th>\n",
       "      <th>Reference temperature (°C)</th>\n",
       "      <th>Temperature Deviation (°C)</th>\n",
       "    </tr>\n",
       "  </thead>\n",
       "  <tbody>\n",
       "    <tr>\n",
       "      <th>0</th>\n",
       "      <td>2012-01-03</td>\n",
       "      <td>2012</td>\n",
       "      <td>1</td>\n",
       "      <td>3</td>\n",
       "      <td>1</td>\n",
       "      <td>8.4</td>\n",
       "      <td>4.6</td>\n",
       "      <td>3.8</td>\n",
       "    </tr>\n",
       "    <tr>\n",
       "      <th>1</th>\n",
       "      <td>2012-01-08</td>\n",
       "      <td>2012</td>\n",
       "      <td>1</td>\n",
       "      <td>8</td>\n",
       "      <td>6</td>\n",
       "      <td>7.9</td>\n",
       "      <td>4.7</td>\n",
       "      <td>3.2</td>\n",
       "    </tr>\n",
       "    <tr>\n",
       "      <th>2</th>\n",
       "      <td>2012-01-12</td>\n",
       "      <td>2012</td>\n",
       "      <td>1</td>\n",
       "      <td>12</td>\n",
       "      <td>3</td>\n",
       "      <td>5.1</td>\n",
       "      <td>4.7</td>\n",
       "      <td>0.4</td>\n",
       "    </tr>\n",
       "    <tr>\n",
       "      <th>3</th>\n",
       "      <td>2012-01-15</td>\n",
       "      <td>2012</td>\n",
       "      <td>1</td>\n",
       "      <td>15</td>\n",
       "      <td>6</td>\n",
       "      <td>1.1</td>\n",
       "      <td>4.8</td>\n",
       "      <td>-3.7</td>\n",
       "    </tr>\n",
       "    <tr>\n",
       "      <th>4</th>\n",
       "      <td>2012-01-17</td>\n",
       "      <td>2012</td>\n",
       "      <td>1</td>\n",
       "      <td>17</td>\n",
       "      <td>1</td>\n",
       "      <td>1.0</td>\n",
       "      <td>4.9</td>\n",
       "      <td>-3.9</td>\n",
       "    </tr>\n",
       "  </tbody>\n",
       "</table>\n",
       "</div>"
      ],
      "text/plain": [
       "        Date  Year  Month  Day  Weekday  Average temperature (°C)  \\\n",
       "0 2012-01-03  2012      1    3        1                       8.4   \n",
       "1 2012-01-08  2012      1    8        6                       7.9   \n",
       "2 2012-01-12  2012      1   12        3                       5.1   \n",
       "3 2012-01-15  2012      1   15        6                       1.1   \n",
       "4 2012-01-17  2012      1   17        1                       1.0   \n",
       "\n",
       "   Reference temperature (°C)  Temperature Deviation (°C)  \n",
       "0                         4.6                         3.8  \n",
       "1                         4.7                         3.2  \n",
       "2                         4.7                         0.4  \n",
       "3                         4.8                        -3.7  \n",
       "4                         4.9                        -3.9  "
      ]
     },
     "execution_count": 221,
     "metadata": {},
     "output_type": "execute_result"
    }
   ],
   "source": [
    "df.head(5)"
   ]
  },
  {
   "cell_type": "code",
   "execution_count": 223,
   "metadata": {},
   "outputs": [
    {
     "data": {
      "text/plain": [
       "(Timestamp('2012-01-01 00:00:00'), Timestamp('2022-05-31 00:00:00'))"
      ]
     },
     "execution_count": 223,
     "metadata": {},
     "output_type": "execute_result"
    }
   ],
   "source": [
    "# Checking the time period of the dataset :\n",
    "df['Date'].min(), df['Date'].max()"
   ]
  },
  {
   "attachments": {},
   "cell_type": "markdown",
   "metadata": {},
   "source": [
    "## Exporting the Dataset to CSV"
   ]
  },
  {
   "cell_type": "code",
   "execution_count": 225,
   "metadata": {},
   "outputs": [],
   "source": [
    "# Exporting the weather dataset to a csv file :\n",
    "df.to_csv('weather.csv', index=False)"
   ]
  }
 ],
 "metadata": {
  "kernelspec": {
   "display_name": "base",
   "language": "python",
   "name": "python3"
  },
  "language_info": {
   "codemirror_mode": {
    "name": "ipython",
    "version": 3
   },
   "file_extension": ".py",
   "mimetype": "text/x-python",
   "name": "python",
   "nbconvert_exporter": "python",
   "pygments_lexer": "ipython3",
   "version": "3.8.3"
  },
  "orig_nbformat": 4,
  "vscode": {
   "interpreter": {
    "hash": "40d3a090f54c6569ab1632332b64b2c03c39dcf918b08424e98f38b5ae0af88f"
   }
  }
 },
 "nbformat": 4,
 "nbformat_minor": 2
}
