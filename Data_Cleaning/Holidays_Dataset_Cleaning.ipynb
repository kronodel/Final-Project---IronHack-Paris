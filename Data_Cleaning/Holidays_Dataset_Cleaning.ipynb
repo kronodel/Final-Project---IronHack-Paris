{
 "cells": [
  {
   "attachments": {},
   "cell_type": "markdown",
   "metadata": {},
   "source": [
    "# Data Cleaning - Holidays Dataset\n",
    "## Holidays in France"
   ]
  },
  {
   "attachments": {},
   "cell_type": "markdown",
   "metadata": {},
   "source": [
    "The Holidays dataset contains information about French public holidays that are defined by the country's labor code. The data is collected from the government's Open Data platform. The dataset includes holidays that occurred up to 20 years in the past and 5 years in the future, relative to the current year (2023). This data can be used for various analyses related to holiday trends, workforce scheduling, and tourism.\n",
    "We are going to use it in our project in order to check if there a correlation between public holidays and the energy consumption in France."
   ]
  },
  {
   "attachments": {},
   "cell_type": "markdown",
   "metadata": {},
   "source": [
    "## Libraries"
   ]
  },
  {
   "cell_type": "code",
   "execution_count": 100,
   "metadata": {},
   "outputs": [],
   "source": [
    "# importing libraries for data cleaning and analysis :\n",
    "import pandas as pd\n",
    "import numpy as np\n",
    "import matplotlib.pyplot as plt\n",
    "import seaborn as sns\n",
    "%matplotlib inline"
   ]
  },
  {
   "attachments": {},
   "cell_type": "markdown",
   "metadata": {},
   "source": [
    "## Exploring the data"
   ]
  },
  {
   "cell_type": "code",
   "execution_count": 144,
   "metadata": {},
   "outputs": [
    {
     "data": {
      "text/html": [
       "<div>\n",
       "<style scoped>\n",
       "    .dataframe tbody tr th:only-of-type {\n",
       "        vertical-align: middle;\n",
       "    }\n",
       "\n",
       "    .dataframe tbody tr th {\n",
       "        vertical-align: top;\n",
       "    }\n",
       "\n",
       "    .dataframe thead th {\n",
       "        text-align: right;\n",
       "    }\n",
       "</style>\n",
       "<table border=\"1\" class=\"dataframe\">\n",
       "  <thead>\n",
       "    <tr style=\"text-align: right;\">\n",
       "      <th></th>\n",
       "      <th>date</th>\n",
       "      <th>annee</th>\n",
       "      <th>zone</th>\n",
       "      <th>nom_jour_ferie</th>\n",
       "    </tr>\n",
       "  </thead>\n",
       "  <tbody>\n",
       "    <tr>\n",
       "      <th>0</th>\n",
       "      <td>2003-01-01</td>\n",
       "      <td>2003</td>\n",
       "      <td>Métropole</td>\n",
       "      <td>1er janvier</td>\n",
       "    </tr>\n",
       "    <tr>\n",
       "      <th>1</th>\n",
       "      <td>2003-04-21</td>\n",
       "      <td>2003</td>\n",
       "      <td>Métropole</td>\n",
       "      <td>Lundi de Pâques</td>\n",
       "    </tr>\n",
       "    <tr>\n",
       "      <th>2</th>\n",
       "      <td>2003-05-01</td>\n",
       "      <td>2003</td>\n",
       "      <td>Métropole</td>\n",
       "      <td>1er mai</td>\n",
       "    </tr>\n",
       "    <tr>\n",
       "      <th>3</th>\n",
       "      <td>2003-05-08</td>\n",
       "      <td>2003</td>\n",
       "      <td>Métropole</td>\n",
       "      <td>8 mai</td>\n",
       "    </tr>\n",
       "    <tr>\n",
       "      <th>4</th>\n",
       "      <td>2003-05-29</td>\n",
       "      <td>2003</td>\n",
       "      <td>Métropole</td>\n",
       "      <td>Ascension</td>\n",
       "    </tr>\n",
       "  </tbody>\n",
       "</table>\n",
       "</div>"
      ],
      "text/plain": [
       "         date  annee       zone   nom_jour_ferie\n",
       "0  2003-01-01   2003  Métropole      1er janvier\n",
       "1  2003-04-21   2003  Métropole  Lundi de Pâques\n",
       "2  2003-05-01   2003  Métropole          1er mai\n",
       "3  2003-05-08   2003  Métropole            8 mai\n",
       "4  2003-05-29   2003  Métropole        Ascension"
      ]
     },
     "execution_count": 144,
     "metadata": {},
     "output_type": "execute_result"
    }
   ],
   "source": [
    "# importing the dataset :\n",
    "\n",
    "df = pd.read_csv('jours_feries_metropole.csv')\n",
    "df.head()"
   ]
  },
  {
   "cell_type": "code",
   "execution_count": 145,
   "metadata": {},
   "outputs": [
    {
     "data": {
      "text/plain": [
       "(286, 4)"
      ]
     },
     "execution_count": 145,
     "metadata": {},
     "output_type": "execute_result"
    }
   ],
   "source": [
    "# checking the shape of the dataset :\n",
    "df.shape"
   ]
  },
  {
   "cell_type": "code",
   "execution_count": 146,
   "metadata": {},
   "outputs": [
    {
     "data": {
      "text/plain": [
       "Index(['date', 'annee', 'zone', 'nom_jour_ferie'], dtype='object')"
      ]
     },
     "execution_count": 146,
     "metadata": {},
     "output_type": "execute_result"
    }
   ],
   "source": [
    "# checking the columns of the dataset :\n",
    "df.columns"
   ]
  },
  {
   "cell_type": "code",
   "execution_count": 147,
   "metadata": {},
   "outputs": [
    {
     "name": "stdout",
     "output_type": "stream",
     "text": [
      "<class 'pandas.core.frame.DataFrame'>\n",
      "RangeIndex: 286 entries, 0 to 285\n",
      "Data columns (total 4 columns):\n",
      " #   Column          Non-Null Count  Dtype \n",
      "---  ------          --------------  ----- \n",
      " 0   date            286 non-null    object\n",
      " 1   annee           286 non-null    int64 \n",
      " 2   zone            286 non-null    object\n",
      " 3   nom_jour_ferie  286 non-null    object\n",
      "dtypes: int64(1), object(3)\n",
      "memory usage: 9.1+ KB\n"
     ]
    }
   ],
   "source": [
    "df.info()"
   ]
  },
  {
   "attachments": {},
   "cell_type": "markdown",
   "metadata": {},
   "source": [
    "## Let's begin by Fixing the datetime because it's the most important feature"
   ]
  },
  {
   "attachments": {},
   "cell_type": "markdown",
   "metadata": {},
   "source": [
    "'date' and 'annee' (year) columns types need to be converted to datetime format. Also we need to fix it as index."
   ]
  },
  {
   "cell_type": "code",
   "execution_count": 148,
   "metadata": {},
   "outputs": [],
   "source": [
    "# Convert the \"date\" column to a datetime format\n",
    "df['date'] = pd.to_datetime(df['date'])\n",
    "\n",
    "# Set the \"date\" column as the index of the DataFrame\n",
    "#df.set_index('date', inplace=True) Let's not do this for now beacause it will be difficult to merge the datasets"
   ]
  },
  {
   "cell_type": "code",
   "execution_count": 149,
   "metadata": {},
   "outputs": [
    {
     "name": "stdout",
     "output_type": "stream",
     "text": [
      "        date       zone   nom_jour_ferie\n",
      "0 2003-01-01  Métropole      1er janvier\n",
      "1 2003-04-21  Métropole  Lundi de Pâques\n",
      "2 2003-05-01  Métropole          1er mai\n",
      "3 2003-05-08  Métropole            8 mai\n",
      "4 2003-05-29  Métropole        Ascension\n"
     ]
    }
   ],
   "source": [
    "# Drop the \"date\" and \"annee\" columns\n",
    "df.drop(columns=['annee'], inplace=True)\n",
    "\n",
    "# Check the first few rows of the DataFrame\n",
    "print(df.head())"
   ]
  },
  {
   "cell_type": "code",
   "execution_count": 150,
   "metadata": {},
   "outputs": [
    {
     "data": {
      "text/plain": [
       "RangeIndex(start=0, stop=286, step=1)"
      ]
     },
     "execution_count": 150,
     "metadata": {},
     "output_type": "execute_result"
    }
   ],
   "source": [
    "df.index"
   ]
  },
  {
   "cell_type": "code",
   "execution_count": 151,
   "metadata": {},
   "outputs": [],
   "source": [
    "# Creating \"Year\", \"Month\", \"Day\", \"Weekday\" \"Hour\" columns : \n",
    "df['Year'] = df['date'].dt.year\n",
    "df['Month'] = df['date'].dt.month\n",
    "df['Day'] = df['date'].dt.day\n",
    "df['Weekday'] = df['date'].dt.weekday"
   ]
  },
  {
   "cell_type": "code",
   "execution_count": 152,
   "metadata": {},
   "outputs": [],
   "source": [
    "# Putting the \"Year\", \"Month\", \"Day\" and \"Hour\" columns at the beginning of the DataFrame juste after the \"date\" column :\n",
    "cols = df.columns.tolist()\n",
    "cols = cols[:1] + cols[-4:] + cols[1:-4]\n",
    "df = df[cols]"
   ]
  },
  {
   "cell_type": "code",
   "execution_count": 153,
   "metadata": {},
   "outputs": [
    {
     "name": "stdout",
     "output_type": "stream",
     "text": [
      "<class 'pandas.core.frame.DataFrame'>\n",
      "RangeIndex: 286 entries, 0 to 285\n",
      "Data columns (total 7 columns):\n",
      " #   Column          Non-Null Count  Dtype         \n",
      "---  ------          --------------  -----         \n",
      " 0   date            286 non-null    datetime64[ns]\n",
      " 1   Year            286 non-null    int64         \n",
      " 2   Month           286 non-null    int64         \n",
      " 3   Day             286 non-null    int64         \n",
      " 4   Weekday         286 non-null    int64         \n",
      " 5   zone            286 non-null    object        \n",
      " 6   nom_jour_ferie  286 non-null    object        \n",
      "dtypes: datetime64[ns](1), int64(4), object(2)\n",
      "memory usage: 15.8+ KB\n"
     ]
    }
   ],
   "source": [
    "df.info()"
   ]
  },
  {
   "cell_type": "code",
   "execution_count": 154,
   "metadata": {},
   "outputs": [
    {
     "data": {
      "text/html": [
       "<div>\n",
       "<style scoped>\n",
       "    .dataframe tbody tr th:only-of-type {\n",
       "        vertical-align: middle;\n",
       "    }\n",
       "\n",
       "    .dataframe tbody tr th {\n",
       "        vertical-align: top;\n",
       "    }\n",
       "\n",
       "    .dataframe thead th {\n",
       "        text-align: right;\n",
       "    }\n",
       "</style>\n",
       "<table border=\"1\" class=\"dataframe\">\n",
       "  <thead>\n",
       "    <tr style=\"text-align: right;\">\n",
       "      <th></th>\n",
       "      <th>date</th>\n",
       "      <th>Year</th>\n",
       "      <th>Month</th>\n",
       "      <th>Day</th>\n",
       "      <th>Weekday</th>\n",
       "      <th>zone</th>\n",
       "      <th>nom_jour_ferie</th>\n",
       "    </tr>\n",
       "  </thead>\n",
       "  <tbody>\n",
       "    <tr>\n",
       "      <th>0</th>\n",
       "      <td>2003-01-01</td>\n",
       "      <td>2003</td>\n",
       "      <td>1</td>\n",
       "      <td>1</td>\n",
       "      <td>2</td>\n",
       "      <td>Métropole</td>\n",
       "      <td>1er janvier</td>\n",
       "    </tr>\n",
       "    <tr>\n",
       "      <th>1</th>\n",
       "      <td>2003-04-21</td>\n",
       "      <td>2003</td>\n",
       "      <td>4</td>\n",
       "      <td>21</td>\n",
       "      <td>0</td>\n",
       "      <td>Métropole</td>\n",
       "      <td>Lundi de Pâques</td>\n",
       "    </tr>\n",
       "    <tr>\n",
       "      <th>2</th>\n",
       "      <td>2003-05-01</td>\n",
       "      <td>2003</td>\n",
       "      <td>5</td>\n",
       "      <td>1</td>\n",
       "      <td>3</td>\n",
       "      <td>Métropole</td>\n",
       "      <td>1er mai</td>\n",
       "    </tr>\n",
       "    <tr>\n",
       "      <th>3</th>\n",
       "      <td>2003-05-08</td>\n",
       "      <td>2003</td>\n",
       "      <td>5</td>\n",
       "      <td>8</td>\n",
       "      <td>3</td>\n",
       "      <td>Métropole</td>\n",
       "      <td>8 mai</td>\n",
       "    </tr>\n",
       "    <tr>\n",
       "      <th>4</th>\n",
       "      <td>2003-05-29</td>\n",
       "      <td>2003</td>\n",
       "      <td>5</td>\n",
       "      <td>29</td>\n",
       "      <td>3</td>\n",
       "      <td>Métropole</td>\n",
       "      <td>Ascension</td>\n",
       "    </tr>\n",
       "  </tbody>\n",
       "</table>\n",
       "</div>"
      ],
      "text/plain": [
       "        date  Year  Month  Day  Weekday       zone   nom_jour_ferie\n",
       "0 2003-01-01  2003      1    1        2  Métropole      1er janvier\n",
       "1 2003-04-21  2003      4   21        0  Métropole  Lundi de Pâques\n",
       "2 2003-05-01  2003      5    1        3  Métropole          1er mai\n",
       "3 2003-05-08  2003      5    8        3  Métropole            8 mai\n",
       "4 2003-05-29  2003      5   29        3  Métropole        Ascension"
      ]
     },
     "execution_count": 154,
     "metadata": {},
     "output_type": "execute_result"
    }
   ],
   "source": [
    "df.head(5)"
   ]
  },
  {
   "attachments": {},
   "cell_type": "markdown",
   "metadata": {},
   "source": [
    "1) We need explore the data and drop some useless colunms to make the analysis easier.\n",
    "2) We need to create a flag feature and encode the holidays with the value '1'. \n",
    "In our main dataset, we want to add a flag column to check in a specific day is a holiday or not (0 = yes or 1 = 0)."
   ]
  },
  {
   "attachments": {},
   "cell_type": "markdown",
   "metadata": {},
   "source": [
    "## Dropping Columns (low variance columns)"
   ]
  },
  {
   "cell_type": "code",
   "execution_count": 155,
   "metadata": {},
   "outputs": [
    {
     "data": {
      "text/plain": [
       "array(['Métropole'], dtype=object)"
      ]
     },
     "execution_count": 155,
     "metadata": {},
     "output_type": "execute_result"
    }
   ],
   "source": [
    "# checking the values of 'zone' column :\n",
    "df['zone'].unique()"
   ]
  },
  {
   "cell_type": "code",
   "execution_count": 156,
   "metadata": {},
   "outputs": [],
   "source": [
    "# We can drop this column as it has only one value :\n",
    "\n",
    "df.drop('zone', axis=1, inplace=True)"
   ]
  },
  {
   "cell_type": "code",
   "execution_count": 157,
   "metadata": {},
   "outputs": [],
   "source": [
    "# Creating a column \"Flag Holiday\" to indicate if the day is a holiday or not. In this case all the values are 1 :\n",
    "\n",
    "df['Flag Holiday'] = 1 "
   ]
  },
  {
   "cell_type": "code",
   "execution_count": 158,
   "metadata": {},
   "outputs": [],
   "source": [
    "# Now we can drop the \"nom_jour_ferie\" column :\n",
    "df.drop('nom_jour_ferie', axis=1, inplace=True)"
   ]
  },
  {
   "cell_type": "code",
   "execution_count": 159,
   "metadata": {},
   "outputs": [
    {
     "name": "stdout",
     "output_type": "stream",
     "text": [
      "<class 'pandas.core.frame.DataFrame'>\n",
      "RangeIndex: 286 entries, 0 to 285\n",
      "Data columns (total 6 columns):\n",
      " #   Column        Non-Null Count  Dtype         \n",
      "---  ------        --------------  -----         \n",
      " 0   date          286 non-null    datetime64[ns]\n",
      " 1   Year          286 non-null    int64         \n",
      " 2   Month         286 non-null    int64         \n",
      " 3   Day           286 non-null    int64         \n",
      " 4   Weekday       286 non-null    int64         \n",
      " 5   Flag Holiday  286 non-null    int64         \n",
      "dtypes: datetime64[ns](1), int64(5)\n",
      "memory usage: 13.5 KB\n"
     ]
    }
   ],
   "source": [
    "df.info()"
   ]
  },
  {
   "cell_type": "code",
   "execution_count": 160,
   "metadata": {},
   "outputs": [
    {
     "data": {
      "text/html": [
       "<div>\n",
       "<style scoped>\n",
       "    .dataframe tbody tr th:only-of-type {\n",
       "        vertical-align: middle;\n",
       "    }\n",
       "\n",
       "    .dataframe tbody tr th {\n",
       "        vertical-align: top;\n",
       "    }\n",
       "\n",
       "    .dataframe thead th {\n",
       "        text-align: right;\n",
       "    }\n",
       "</style>\n",
       "<table border=\"1\" class=\"dataframe\">\n",
       "  <thead>\n",
       "    <tr style=\"text-align: right;\">\n",
       "      <th></th>\n",
       "      <th>date</th>\n",
       "      <th>Year</th>\n",
       "      <th>Month</th>\n",
       "      <th>Day</th>\n",
       "      <th>Weekday</th>\n",
       "      <th>Flag Holiday</th>\n",
       "    </tr>\n",
       "  </thead>\n",
       "  <tbody>\n",
       "    <tr>\n",
       "      <th>0</th>\n",
       "      <td>2003-01-01</td>\n",
       "      <td>2003</td>\n",
       "      <td>1</td>\n",
       "      <td>1</td>\n",
       "      <td>2</td>\n",
       "      <td>1</td>\n",
       "    </tr>\n",
       "    <tr>\n",
       "      <th>1</th>\n",
       "      <td>2003-04-21</td>\n",
       "      <td>2003</td>\n",
       "      <td>4</td>\n",
       "      <td>21</td>\n",
       "      <td>0</td>\n",
       "      <td>1</td>\n",
       "    </tr>\n",
       "    <tr>\n",
       "      <th>2</th>\n",
       "      <td>2003-05-01</td>\n",
       "      <td>2003</td>\n",
       "      <td>5</td>\n",
       "      <td>1</td>\n",
       "      <td>3</td>\n",
       "      <td>1</td>\n",
       "    </tr>\n",
       "    <tr>\n",
       "      <th>3</th>\n",
       "      <td>2003-05-08</td>\n",
       "      <td>2003</td>\n",
       "      <td>5</td>\n",
       "      <td>8</td>\n",
       "      <td>3</td>\n",
       "      <td>1</td>\n",
       "    </tr>\n",
       "    <tr>\n",
       "      <th>4</th>\n",
       "      <td>2003-05-29</td>\n",
       "      <td>2003</td>\n",
       "      <td>5</td>\n",
       "      <td>29</td>\n",
       "      <td>3</td>\n",
       "      <td>1</td>\n",
       "    </tr>\n",
       "  </tbody>\n",
       "</table>\n",
       "</div>"
      ],
      "text/plain": [
       "        date  Year  Month  Day  Weekday  Flag Holiday\n",
       "0 2003-01-01  2003      1    1        2             1\n",
       "1 2003-04-21  2003      4   21        0             1\n",
       "2 2003-05-01  2003      5    1        3             1\n",
       "3 2003-05-08  2003      5    8        3             1\n",
       "4 2003-05-29  2003      5   29        3             1"
      ]
     },
     "execution_count": 160,
     "metadata": {},
     "output_type": "execute_result"
    }
   ],
   "source": [
    "df.head(5)"
   ]
  },
  {
   "attachments": {},
   "cell_type": "markdown",
   "metadata": {},
   "source": [
    "## Dropping useless rows"
   ]
  },
  {
   "cell_type": "code",
   "execution_count": 161,
   "metadata": {},
   "outputs": [
    {
     "name": "stdout",
     "output_type": "stream",
     "text": [
      "2003-01-01 00:00:00\n",
      "2028-12-25 00:00:00\n"
     ]
    }
   ],
   "source": [
    "# Printing Datetime min and max values :\n",
    "print(df['date'].min())\n",
    "print(df['date'].max()) \n",
    "#in the main dataset (energy consumption) we have this time range : 2012-01-01 00:00:00 to 2022-05-31 23:30:00"
   ]
  },
  {
   "cell_type": "code",
   "execution_count": 162,
   "metadata": {},
   "outputs": [
    {
     "name": "stdout",
     "output_type": "stream",
     "text": [
      "<class 'pandas.core.frame.DataFrame'>\n",
      "RangeIndex: 286 entries, 0 to 285\n",
      "Data columns (total 6 columns):\n",
      " #   Column        Non-Null Count  Dtype         \n",
      "---  ------        --------------  -----         \n",
      " 0   date          286 non-null    datetime64[ns]\n",
      " 1   Year          286 non-null    int64         \n",
      " 2   Month         286 non-null    int64         \n",
      " 3   Day           286 non-null    int64         \n",
      " 4   Weekday       286 non-null    int64         \n",
      " 5   Flag Holiday  286 non-null    int64         \n",
      "dtypes: datetime64[ns](1), int64(5)\n",
      "memory usage: 13.5 KB\n"
     ]
    }
   ],
   "source": [
    "df.info()"
   ]
  },
  {
   "attachments": {},
   "cell_type": "markdown",
   "metadata": {},
   "source": [
    "So we can drop the useless rows to match the time range of the main dataset"
   ]
  },
  {
   "cell_type": "code",
   "execution_count": 163,
   "metadata": {},
   "outputs": [
    {
     "name": "stdout",
     "output_type": "stream",
     "text": [
      "          date  Year  Month  Day  Weekday  Flag Holiday\n",
      "0   2012-01-01  2012      1    1        6             1\n",
      "1   2012-04-09  2012      4    9        0             1\n",
      "2   2012-05-01  2012      5    1        1             1\n",
      "3   2012-05-08  2012      5    8        1             1\n",
      "4   2012-05-17  2012      5   17        3             1\n",
      "..         ...   ...    ...  ...      ...           ...\n",
      "110 2022-01-01  2022      1    1        5             1\n",
      "111 2022-04-18  2022      4   18        0             1\n",
      "112 2022-05-01  2022      5    1        6             1\n",
      "113 2022-05-08  2022      5    8        6             1\n",
      "114 2022-05-26  2022      5   26        3             1\n",
      "\n",
      "[115 rows x 6 columns]\n"
     ]
    }
   ],
   "source": [
    "# Defining the start and end dates for your project '2012-01-01' to '2022-05-31' :\n",
    "# Filter the DataFrame to keep only rows within the specified time range\n",
    "df = df[(df['date'] >= '2012-01-01') & (df['date'] <= '2022-05-31')]\n",
    "\n",
    "# Reset the index of the filtered DataFrame\n",
    "df.reset_index(drop=True, inplace=True)\n",
    "\n",
    "# Print the filtered DataFrame\n",
    "print(df)\n"
   ]
  },
  {
   "cell_type": "code",
   "execution_count": 164,
   "metadata": {},
   "outputs": [
    {
     "name": "stdout",
     "output_type": "stream",
     "text": [
      "<class 'pandas.core.frame.DataFrame'>\n",
      "RangeIndex: 115 entries, 0 to 114\n",
      "Data columns (total 6 columns):\n",
      " #   Column        Non-Null Count  Dtype         \n",
      "---  ------        --------------  -----         \n",
      " 0   date          115 non-null    datetime64[ns]\n",
      " 1   Year          115 non-null    int64         \n",
      " 2   Month         115 non-null    int64         \n",
      " 3   Day           115 non-null    int64         \n",
      " 4   Weekday       115 non-null    int64         \n",
      " 5   Flag Holiday  115 non-null    int64         \n",
      "dtypes: datetime64[ns](1), int64(5)\n",
      "memory usage: 5.5 KB\n"
     ]
    }
   ],
   "source": [
    "df.info()"
   ]
  },
  {
   "attachments": {},
   "cell_type": "markdown",
   "metadata": {},
   "source": [
    "Now, we have the good time range in this dataset. We don't have the same number of rows and the same start date and end date, that's normal because we only have holidays in this dataset (only 'Flag Holiday\" = 1)"
   ]
  },
  {
   "attachments": {},
   "cell_type": "markdown",
   "metadata": {},
   "source": [
    "## Missing Values"
   ]
  },
  {
   "cell_type": "code",
   "execution_count": 165,
   "metadata": {},
   "outputs": [
    {
     "data": {
      "text/plain": [
       "date            0\n",
       "Year            0\n",
       "Month           0\n",
       "Day             0\n",
       "Weekday         0\n",
       "Flag Holiday    0\n",
       "dtype: int64"
      ]
     },
     "execution_count": 165,
     "metadata": {},
     "output_type": "execute_result"
    }
   ],
   "source": [
    "# Checking the number of null values in each column :\n",
    "df.isnull().sum()"
   ]
  },
  {
   "attachments": {},
   "cell_type": "markdown",
   "metadata": {},
   "source": [
    "## Checking Duplicates"
   ]
  },
  {
   "cell_type": "code",
   "execution_count": 166,
   "metadata": {},
   "outputs": [
    {
     "data": {
      "text/plain": [
       "0"
      ]
     },
     "execution_count": 166,
     "metadata": {},
     "output_type": "execute_result"
    }
   ],
   "source": [
    "# Checking duplicates in the dataset :\n",
    "\n",
    "df.duplicated().sum()"
   ]
  },
  {
   "attachments": {},
   "cell_type": "markdown",
   "metadata": {},
   "source": [
    "## Let's add all the other days that are not holidays to cover the time range of our project"
   ]
  },
  {
   "cell_type": "code",
   "execution_count": 167,
   "metadata": {},
   "outputs": [
    {
     "name": "stdout",
     "output_type": "stream",
     "text": [
      "           date    Year  Month  Day  Weekday  Flag Holiday\n",
      "0    2012-01-01  2012.0    1.0  1.0      6.0           1.0\n",
      "1    2012-01-02     NaN    NaN  NaN      NaN           0.0\n",
      "2    2012-01-03     NaN    NaN  NaN      NaN           0.0\n",
      "3    2012-01-04     NaN    NaN  NaN      NaN           0.0\n",
      "4    2012-01-05     NaN    NaN  NaN      NaN           0.0\n",
      "...         ...     ...    ...  ...      ...           ...\n",
      "3799 2022-05-27     NaN    NaN  NaN      NaN           0.0\n",
      "3800 2022-05-28     NaN    NaN  NaN      NaN           0.0\n",
      "3801 2022-05-29     NaN    NaN  NaN      NaN           0.0\n",
      "3802 2022-05-30     NaN    NaN  NaN      NaN           0.0\n",
      "3803 2022-05-31     NaN    NaN  NaN      NaN           0.0\n",
      "\n",
      "[3804 rows x 6 columns]\n"
     ]
    }
   ],
   "source": [
    "# Defining the time range\n",
    "start_date = pd.to_datetime('2012-01-01')\n",
    "end_date = pd.to_datetime('2022-05-31')\n",
    "\n",
    "# Creating a DataFrame with all dates in the time range\n",
    "all_dates = pd.DataFrame(pd.date_range(start=start_date, end=end_date), columns=['date'])\n",
    "\n",
    "# Merging the original DataFrame and the new DataFrame with all dates\n",
    "df = pd.merge(all_dates, df, on='date', how='left')\n",
    "\n",
    "# Replacing missing values in the 'Flag Holiday' column with 0\n",
    "df['Flag Holiday'].fillna(0, inplace=True)\n",
    "\n",
    "# Sorting the DataFrame by date\n",
    "df.sort_values('date', inplace=True)\n",
    "\n",
    "# Reseting the index of the sorted DataFrame\n",
    "df.reset_index(drop=True, inplace=True)\n",
    "\n",
    "# Printing the updated DataFrame\n",
    "print(df)"
   ]
  },
  {
   "cell_type": "code",
   "execution_count": 168,
   "metadata": {},
   "outputs": [
    {
     "name": "stdout",
     "output_type": "stream",
     "text": [
      "<class 'pandas.core.frame.DataFrame'>\n",
      "RangeIndex: 3804 entries, 0 to 3803\n",
      "Data columns (total 6 columns):\n",
      " #   Column        Non-Null Count  Dtype         \n",
      "---  ------        --------------  -----         \n",
      " 0   date          3804 non-null   datetime64[ns]\n",
      " 1   Year          115 non-null    float64       \n",
      " 2   Month         115 non-null    float64       \n",
      " 3   Day           115 non-null    float64       \n",
      " 4   Weekday       115 non-null    float64       \n",
      " 5   Flag Holiday  3804 non-null   float64       \n",
      "dtypes: datetime64[ns](1), float64(5)\n",
      "memory usage: 178.4 KB\n"
     ]
    }
   ],
   "source": [
    "df.info()"
   ]
  },
  {
   "cell_type": "code",
   "execution_count": 169,
   "metadata": {},
   "outputs": [
    {
     "data": {
      "text/plain": [
       "0.0    3689\n",
       "1.0     115\n",
       "Name: Flag Holiday, dtype: int64"
      ]
     },
     "execution_count": 169,
     "metadata": {},
     "output_type": "execute_result"
    }
   ],
   "source": [
    "# Value counts of the \"Flag Holiday\" column :\n",
    "\n",
    "df['Flag Holiday'].value_counts()"
   ]
  },
  {
   "attachments": {},
   "cell_type": "markdown",
   "metadata": {},
   "source": [
    "We have successfully added new rows of date that are not holidays.\n",
    "Let's clean it again!"
   ]
  },
  {
   "cell_type": "code",
   "execution_count": 170,
   "metadata": {},
   "outputs": [],
   "source": [
    "# Dropping the \"Year\", \"Month\", \"Day\" and \"Weekday\" columns :\n",
    "\n",
    "df.drop(['Year', 'Month', 'Day', 'Weekday'], axis=1, inplace=True)"
   ]
  },
  {
   "cell_type": "code",
   "execution_count": 171,
   "metadata": {},
   "outputs": [],
   "source": [
    "# Convert the \"date\" column to a datetime format\n",
    "df['date'] = pd.to_datetime(df['date'])\n",
    "\n",
    "# Set the \"date\" column as the index of the DataFrame\n",
    "#merged_df.set_index('date', inplace=True)"
   ]
  },
  {
   "cell_type": "code",
   "execution_count": 172,
   "metadata": {},
   "outputs": [
    {
     "name": "stdout",
     "output_type": "stream",
     "text": [
      "<class 'pandas.core.frame.DataFrame'>\n",
      "RangeIndex: 3804 entries, 0 to 3803\n",
      "Data columns (total 2 columns):\n",
      " #   Column        Non-Null Count  Dtype         \n",
      "---  ------        --------------  -----         \n",
      " 0   date          3804 non-null   datetime64[ns]\n",
      " 1   Flag Holiday  3804 non-null   float64       \n",
      "dtypes: datetime64[ns](1), float64(1)\n",
      "memory usage: 59.6 KB\n"
     ]
    }
   ],
   "source": [
    "df.info()"
   ]
  },
  {
   "cell_type": "code",
   "execution_count": 173,
   "metadata": {},
   "outputs": [],
   "source": [
    "# Creating \"Year\", \"Month\", \"Day\", \"Weekday\" columns : \n",
    "df['Year'] = df['date'].dt.year\n",
    "df['Month'] = df['date'].dt.month\n",
    "df['Day'] = df['date'].dt.day\n",
    "df['Weekday'] = df['date'].dt.weekday"
   ]
  },
  {
   "cell_type": "code",
   "execution_count": 175,
   "metadata": {},
   "outputs": [
    {
     "data": {
      "text/html": [
       "<div>\n",
       "<style scoped>\n",
       "    .dataframe tbody tr th:only-of-type {\n",
       "        vertical-align: middle;\n",
       "    }\n",
       "\n",
       "    .dataframe tbody tr th {\n",
       "        vertical-align: top;\n",
       "    }\n",
       "\n",
       "    .dataframe thead th {\n",
       "        text-align: right;\n",
       "    }\n",
       "</style>\n",
       "<table border=\"1\" class=\"dataframe\">\n",
       "  <thead>\n",
       "    <tr style=\"text-align: right;\">\n",
       "      <th></th>\n",
       "      <th>date</th>\n",
       "      <th>Year</th>\n",
       "      <th>Month</th>\n",
       "      <th>Day</th>\n",
       "      <th>Weekday</th>\n",
       "      <th>Flag Holiday</th>\n",
       "    </tr>\n",
       "  </thead>\n",
       "  <tbody>\n",
       "    <tr>\n",
       "      <th>0</th>\n",
       "      <td>2012-01-01</td>\n",
       "      <td>2012</td>\n",
       "      <td>1</td>\n",
       "      <td>1</td>\n",
       "      <td>6</td>\n",
       "      <td>1.0</td>\n",
       "    </tr>\n",
       "    <tr>\n",
       "      <th>1</th>\n",
       "      <td>2012-01-02</td>\n",
       "      <td>2012</td>\n",
       "      <td>1</td>\n",
       "      <td>2</td>\n",
       "      <td>0</td>\n",
       "      <td>0.0</td>\n",
       "    </tr>\n",
       "    <tr>\n",
       "      <th>2</th>\n",
       "      <td>2012-01-03</td>\n",
       "      <td>2012</td>\n",
       "      <td>1</td>\n",
       "      <td>3</td>\n",
       "      <td>1</td>\n",
       "      <td>0.0</td>\n",
       "    </tr>\n",
       "    <tr>\n",
       "      <th>3</th>\n",
       "      <td>2012-01-04</td>\n",
       "      <td>2012</td>\n",
       "      <td>1</td>\n",
       "      <td>4</td>\n",
       "      <td>2</td>\n",
       "      <td>0.0</td>\n",
       "    </tr>\n",
       "    <tr>\n",
       "      <th>4</th>\n",
       "      <td>2012-01-05</td>\n",
       "      <td>2012</td>\n",
       "      <td>1</td>\n",
       "      <td>5</td>\n",
       "      <td>3</td>\n",
       "      <td>0.0</td>\n",
       "    </tr>\n",
       "  </tbody>\n",
       "</table>\n",
       "</div>"
      ],
      "text/plain": [
       "        date  Year  Month  Day  Weekday  Flag Holiday\n",
       "0 2012-01-01  2012      1    1        6           1.0\n",
       "1 2012-01-02  2012      1    2        0           0.0\n",
       "2 2012-01-03  2012      1    3        1           0.0\n",
       "3 2012-01-04  2012      1    4        2           0.0\n",
       "4 2012-01-05  2012      1    5        3           0.0"
      ]
     },
     "execution_count": 175,
     "metadata": {},
     "output_type": "execute_result"
    }
   ],
   "source": [
    "# Putting the \"Year\", \"Month\", \"Day\" columns at the beginning of the DataFrame just after the \"date\" column :\n",
    "\n",
    "cols = df.columns.tolist()\n",
    "cols = cols[:1] + cols[-4:] + cols[1:-4]\n",
    "df = df[cols]\n",
    "\n",
    "df.head(5)\n"
   ]
  },
  {
   "cell_type": "code",
   "execution_count": 176,
   "metadata": {},
   "outputs": [],
   "source": [
    "# Convert the \"Flag Holiday\" column to an integer format\n",
    "\n",
    "df['Flag Holiday'] = df['Flag Holiday'].astype(int)"
   ]
  },
  {
   "cell_type": "code",
   "execution_count": 177,
   "metadata": {},
   "outputs": [
    {
     "name": "stdout",
     "output_type": "stream",
     "text": [
      "<class 'pandas.core.frame.DataFrame'>\n",
      "RangeIndex: 3804 entries, 0 to 3803\n",
      "Data columns (total 6 columns):\n",
      " #   Column        Non-Null Count  Dtype         \n",
      "---  ------        --------------  -----         \n",
      " 0   date          3804 non-null   datetime64[ns]\n",
      " 1   Year          3804 non-null   int64         \n",
      " 2   Month         3804 non-null   int64         \n",
      " 3   Day           3804 non-null   int64         \n",
      " 4   Weekday       3804 non-null   int64         \n",
      " 5   Flag Holiday  3804 non-null   int64         \n",
      "dtypes: datetime64[ns](1), int64(5)\n",
      "memory usage: 178.4 KB\n"
     ]
    }
   ],
   "source": [
    "df.info()"
   ]
  },
  {
   "cell_type": "code",
   "execution_count": 178,
   "metadata": {},
   "outputs": [
    {
     "data": {
      "text/html": [
       "<div>\n",
       "<style scoped>\n",
       "    .dataframe tbody tr th:only-of-type {\n",
       "        vertical-align: middle;\n",
       "    }\n",
       "\n",
       "    .dataframe tbody tr th {\n",
       "        vertical-align: top;\n",
       "    }\n",
       "\n",
       "    .dataframe thead th {\n",
       "        text-align: right;\n",
       "    }\n",
       "</style>\n",
       "<table border=\"1\" class=\"dataframe\">\n",
       "  <thead>\n",
       "    <tr style=\"text-align: right;\">\n",
       "      <th></th>\n",
       "      <th>date</th>\n",
       "      <th>Year</th>\n",
       "      <th>Month</th>\n",
       "      <th>Day</th>\n",
       "      <th>Weekday</th>\n",
       "      <th>Flag Holiday</th>\n",
       "    </tr>\n",
       "  </thead>\n",
       "  <tbody>\n",
       "    <tr>\n",
       "      <th>0</th>\n",
       "      <td>2012-01-01</td>\n",
       "      <td>2012</td>\n",
       "      <td>1</td>\n",
       "      <td>1</td>\n",
       "      <td>6</td>\n",
       "      <td>1</td>\n",
       "    </tr>\n",
       "    <tr>\n",
       "      <th>1</th>\n",
       "      <td>2012-01-02</td>\n",
       "      <td>2012</td>\n",
       "      <td>1</td>\n",
       "      <td>2</td>\n",
       "      <td>0</td>\n",
       "      <td>0</td>\n",
       "    </tr>\n",
       "    <tr>\n",
       "      <th>2</th>\n",
       "      <td>2012-01-03</td>\n",
       "      <td>2012</td>\n",
       "      <td>1</td>\n",
       "      <td>3</td>\n",
       "      <td>1</td>\n",
       "      <td>0</td>\n",
       "    </tr>\n",
       "    <tr>\n",
       "      <th>3</th>\n",
       "      <td>2012-01-04</td>\n",
       "      <td>2012</td>\n",
       "      <td>1</td>\n",
       "      <td>4</td>\n",
       "      <td>2</td>\n",
       "      <td>0</td>\n",
       "    </tr>\n",
       "    <tr>\n",
       "      <th>4</th>\n",
       "      <td>2012-01-05</td>\n",
       "      <td>2012</td>\n",
       "      <td>1</td>\n",
       "      <td>5</td>\n",
       "      <td>3</td>\n",
       "      <td>0</td>\n",
       "    </tr>\n",
       "  </tbody>\n",
       "</table>\n",
       "</div>"
      ],
      "text/plain": [
       "        date  Year  Month  Day  Weekday  Flag Holiday\n",
       "0 2012-01-01  2012      1    1        6             1\n",
       "1 2012-01-02  2012      1    2        0             0\n",
       "2 2012-01-03  2012      1    3        1             0\n",
       "3 2012-01-04  2012      1    4        2             0\n",
       "4 2012-01-05  2012      1    5        3             0"
      ]
     },
     "execution_count": 178,
     "metadata": {},
     "output_type": "execute_result"
    }
   ],
   "source": [
    "df.head(5)"
   ]
  },
  {
   "cell_type": "code",
   "execution_count": 179,
   "metadata": {},
   "outputs": [
    {
     "name": "stdout",
     "output_type": "stream",
     "text": [
      "2012-01-01 00:00:00\n",
      "2022-05-31 00:00:00\n"
     ]
    }
   ],
   "source": [
    "# Checking the time period of the dataset :\n",
    "print(df['date'].min())\n",
    "print(df['date'].max())"
   ]
  },
  {
   "attachments": {},
   "cell_type": "markdown",
   "metadata": {},
   "source": [
    "Now we have the good time range with all the values that we want !"
   ]
  },
  {
   "attachments": {},
   "cell_type": "markdown",
   "metadata": {},
   "source": [
    "## Exporting the Dataset to CSV"
   ]
  },
  {
   "cell_type": "code",
   "execution_count": 181,
   "metadata": {},
   "outputs": [],
   "source": [
    "# Exporting the dataset with all the days to a csv file :\n",
    "df.to_csv('all_days.csv', index=False)"
   ]
  }
 ],
 "metadata": {
  "kernelspec": {
   "display_name": "base",
   "language": "python",
   "name": "python3"
  },
  "language_info": {
   "codemirror_mode": {
    "name": "ipython",
    "version": 3
   },
   "file_extension": ".py",
   "mimetype": "text/x-python",
   "name": "python",
   "nbconvert_exporter": "python",
   "pygments_lexer": "ipython3",
   "version": "3.8.3"
  },
  "orig_nbformat": 4,
  "vscode": {
   "interpreter": {
    "hash": "40d3a090f54c6569ab1632332b64b2c03c39dcf918b08424e98f38b5ae0af88f"
   }
  }
 },
 "nbformat": 4,
 "nbformat_minor": 2
}
